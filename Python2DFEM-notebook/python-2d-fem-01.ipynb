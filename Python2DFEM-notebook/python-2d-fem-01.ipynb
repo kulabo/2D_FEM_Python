{
 "cells": [
  {
   "cell_type": "markdown",
   "metadata": {},
   "source": [
    "# Pythonで作る2次元変位解析FEM\n",
    "## 定式化\n",
    "$$\n",
    "K_{e}=\\sum_{i=1}^4 \\omega_iB^T(\\xi_i,\\eta_i)DB(\\xi_i,\\eta_i)det(J(\\xi_i,\\eta_i))\n",
    "$$"
   ]
  },
  {
   "cell_type": "code",
   "execution_count": null,
   "metadata": {},
   "outputs": [],
   "source": []
  }
 ],
 "metadata": {
  "kernelspec": {
   "display_name": "Python 3",
   "language": "python",
   "name": "python3"
  },
  "language_info": {
   "codemirror_mode": {
    "name": "ipython",
    "version": 3
   },
   "file_extension": ".py",
   "mimetype": "text/x-python",
   "name": "python",
   "nbconvert_exporter": "python",
   "pygments_lexer": "ipython3",
   "version": "3.6.5"
  }
 },
 "nbformat": 4,
 "nbformat_minor": 2
}
